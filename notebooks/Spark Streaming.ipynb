{
 "cells": [
  {
   "cell_type": "code",
   "execution_count": 1,
   "id": "5f2110eb",
   "metadata": {},
   "outputs": [
    {
     "data": {
      "text/plain": [
       "'/home/clairtonm/app/spark-2.4.7-bin-hadoop2.7'"
      ]
     },
     "execution_count": 1,
     "metadata": {},
     "output_type": "execute_result"
    }
   ],
   "source": [
    "import findspark\n",
    "findspark.init()\n",
    "findspark.find()\n",
    "\n",
    "import pyspark\n",
    "findspark.find()"
   ]
  },
  {
   "cell_type": "code",
   "execution_count": 2,
   "id": "42b5fe2f",
   "metadata": {},
   "outputs": [],
   "source": [
    "from pyspark.sql import SparkSession\n",
    "from pyspark.sql.functions import from_json, col, desc\n",
    "from pyspark.sql.types import *\n",
    "import os"
   ]
  },
  {
   "cell_type": "code",
   "execution_count": 4,
   "id": "36bbacf0",
   "metadata": {},
   "outputs": [],
   "source": [
    "## Download Jars for Spark\n",
    "\n",
    "os.environ['PYSPARK_SUBMIT_ARGS'] = ' --packages org.apache.spark:spark-sql-kafka-0-10_2.11:2.4.4 pyspark-shell'\n",
    "#os.environ['PYSPARK_SUBMIT_ARGS'] = ' --packages org.elasticsearch:elasticsearch-hadoop:7.12.1 pyspark-shell'"
   ]
  },
  {
   "cell_type": "code",
   "execution_count": 5,
   "id": "2c00c1fd",
   "metadata": {},
   "outputs": [],
   "source": [
    "# Initialize Spark Session\n",
    "\n",
    "spark = SparkSession.builder.appName('Spark Structured Streaming') \\\n",
    "        .getOrCreate()\n",
    "\n",
    "# spark = SparkSession.builder.appName('Spark Structured Streaming') \\\n",
    "#         .master(\"spark://0.0.0.0:7077\") \\\n",
    "#         .getOrCreate()"
   ]
  },
  {
   "cell_type": "code",
   "execution_count": 5,
   "id": "95f6ad64",
   "metadata": {},
   "outputs": [],
   "source": [
    "# In case you need to DEBUG the code\n",
    "spark.sparkContext.setLogLevel(\"DEBUG\")"
   ]
  },
  {
   "cell_type": "markdown",
   "id": "af277571",
   "metadata": {},
   "source": [
    "## kafka Input Streaming"
   ]
  },
  {
   "cell_type": "code",
   "execution_count": 6,
   "id": "7616f315",
   "metadata": {},
   "outputs": [],
   "source": [
    "# Subscribe to Kafka topic\n",
    "\n",
    "df = spark.readStream.format('kafka').option(\"kafka.bootstrap.servers\", \"localhost:9092\").option(\"subscribe\", \"twitter\").load()"
   ]
  },
  {
   "cell_type": "code",
   "execution_count": 7,
   "id": "a3af9d90",
   "metadata": {},
   "outputs": [],
   "source": [
    "# Defining the Json Schema, important to map the Json string into Dataframe types (from pyspark.sql.types import *)\n",
    "\n",
    "jsonSchema = StructType([StructField(\"created_at\", DoubleType(), True), \n",
    "                         StructField(\"hashtags\", ArrayType(StructType([\n",
    "                            StructField(\"text\", StringType(), True), \n",
    "                             StructField(\"indices\", \n",
    "                                         ArrayType(IntegerType(), True))])), True),\n",
    "                         StructField(\"favorite_count\", DoubleType(), True), \n",
    "                         StructField(\"retweet_count\", DoubleType(), True),\n",
    "                         StructField(\"text\", StringType(), True), \n",
    "                         StructField(\"id\", StringType(), True),\n",
    "                         StructField(\"geo\", StructType([\n",
    "                             StructField(\"type\", StringType(), True), \n",
    "                             StructField(\"coordinates\", \n",
    "                                         ArrayType(LongType(), True))]), True), \n",
    "                         StructField(\"lang\", StringType(), True)])"
   ]
  },
  {
   "cell_type": "code",
   "execution_count": 8,
   "id": "e9592f7a",
   "metadata": {},
   "outputs": [],
   "source": [
    "# Converting the binary data into String and the Json string into Dataframe types\n",
    "\n",
    "df = df.selectExpr(\"CAST(key AS STRING)\", \"CAST(value AS STRING)\") \\\n",
    "     .withColumn(\"json\", from_json(col('value').cast(\"string\"), jsonSchema))"
   ]
  },
  {
   "cell_type": "code",
   "execution_count": 9,
   "id": "bd3dfed1",
   "metadata": {},
   "outputs": [
    {
     "name": "stdout",
     "output_type": "stream",
     "text": [
      "root\n",
      " |-- key: string (nullable = true)\n",
      " |-- value: string (nullable = true)\n",
      " |-- json: struct (nullable = true)\n",
      " |    |-- created_at: double (nullable = true)\n",
      " |    |-- hashtags: array (nullable = true)\n",
      " |    |    |-- element: struct (containsNull = true)\n",
      " |    |    |    |-- text: string (nullable = true)\n",
      " |    |    |    |-- indices: array (nullable = true)\n",
      " |    |    |    |    |-- element: integer (containsNull = true)\n",
      " |    |-- favorite_count: double (nullable = true)\n",
      " |    |-- retweet_count: double (nullable = true)\n",
      " |    |-- text: string (nullable = true)\n",
      " |    |-- id: string (nullable = true)\n",
      " |    |-- geo: struct (nullable = true)\n",
      " |    |    |-- type: string (nullable = true)\n",
      " |    |    |-- coordinates: array (nullable = true)\n",
      " |    |    |    |-- element: long (containsNull = true)\n",
      " |    |-- lang: string (nullable = true)\n",
      "\n"
     ]
    }
   ],
   "source": [
    "df.printSchema()"
   ]
  },
  {
   "cell_type": "markdown",
   "id": "e59b8a5d",
   "metadata": {},
   "source": [
    "## Exercícios "
   ]
  },
  {
   "cell_type": "code",
   "execution_count": 9,
   "id": "eed19be1",
   "metadata": {},
   "outputs": [],
   "source": [
    "# Count by Language\n",
    "lang_count = df.groupBy(\"json.lang\").count().sort(desc(\"count\")) \\\n",
    "            .writeStream \\\n",
    "            .outputMode(\"complete\") \\\n",
    "            .format(\"console\") \\\n",
    "            .option(\"truncate\", \"false\") \\\n",
    "            .start()"
   ]
  },
  {
   "cell_type": "code",
   "execution_count": 10,
   "id": "dcab3333",
   "metadata": {},
   "outputs": [],
   "source": [
    "#Stop the query - this is for testing purpose in produciton we use awaitTermination()\n",
    "lang_count.stop()"
   ]
  },
  {
   "cell_type": "code",
   "execution_count": 9,
   "id": "f920aef1",
   "metadata": {},
   "outputs": [],
   "source": [
    "# Count total\n",
    "count = df.groupBy().count() \\\n",
    "            .writeStream.outputMode(\"complete\").format(\"console\").option(\"truncate\", \"false\").start()"
   ]
  },
  {
   "cell_type": "code",
   "execution_count": 15,
   "id": "297a2e9e",
   "metadata": {},
   "outputs": [],
   "source": [
    "count.stop()"
   ]
  },
  {
   "cell_type": "code",
   "execution_count": 9,
   "id": "a7c7c136",
   "metadata": {},
   "outputs": [],
   "source": [
    "# Show the entries \n",
    "query = df.writeStream.outputMode(\"update\").format(\"console\").option(\"truncate\", \"false\").start()"
   ]
  },
  {
   "cell_type": "code",
   "execution_count": 10,
   "id": "728ec0d6",
   "metadata": {},
   "outputs": [],
   "source": [
    "query.stop()"
   ]
  },
  {
   "cell_type": "markdown",
   "id": "d5fdd2ba",
   "metadata": {},
   "source": [
    "## Kafka Output Streaming"
   ]
  },
  {
   "cell_type": "code",
   "execution_count": 10,
   "id": "98639f18",
   "metadata": {},
   "outputs": [],
   "source": [
    "kafka = df.writeStream.format(\"kafka\") \\\n",
    "        .option(\"kafka.bootstrap.servers\", \"localhost:9092\") \\\n",
    "        .option(\"checkpointLocation\", \"kafka_checpoint/\") \\\n",
    "        .option(\"failOnDataLoss\", \"false\") \\\n",
    "        .option(\"topic\", \"twitter-result\") \\\n",
    "        .start()"
   ]
  },
  {
   "cell_type": "code",
   "execution_count": 10,
   "id": "8c7a54b8",
   "metadata": {},
   "outputs": [],
   "source": [
    "kafka.stop()"
   ]
  },
  {
   "cell_type": "code",
   "execution_count": null,
   "id": "1ebadf0c",
   "metadata": {},
   "outputs": [],
   "source": []
  }
 ],
 "metadata": {
  "kernelspec": {
   "display_name": "Python 3",
   "language": "python",
   "name": "python3"
  },
  "language_info": {
   "codemirror_mode": {
    "name": "ipython",
    "version": 3
   },
   "file_extension": ".py",
   "mimetype": "text/x-python",
   "name": "python",
   "nbconvert_exporter": "python",
   "pygments_lexer": "ipython3",
   "version": "3.7.5"
  }
 },
 "nbformat": 4,
 "nbformat_minor": 5
}
