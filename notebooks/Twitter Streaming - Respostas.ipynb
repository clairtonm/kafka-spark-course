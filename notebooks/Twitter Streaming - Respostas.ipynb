{
 "cells": [
  {
   "cell_type": "code",
   "execution_count": 1,
   "id": "logical-integrity",
   "metadata": {},
   "outputs": [
    {
     "data": {
      "text/plain": [
       "'C:\\\\Apps\\\\spark-2.4.7-bin-hadoop2.7'"
      ]
     },
     "execution_count": 1,
     "metadata": {},
     "output_type": "execute_result"
    }
   ],
   "source": [
    "import findspark\n",
    "findspark.init()\n",
    "findspark.find()\n",
    "\n",
    "import pyspark\n",
    "findspark.find()"
   ]
  },
  {
   "cell_type": "code",
   "execution_count": 20,
   "id": "therapeutic-package",
   "metadata": {},
   "outputs": [],
   "source": [
    "from pyspark.sql import SparkSession\n",
    "from pyspark.sql.functions import from_json, col, desc, upper\n",
    "from pyspark.sql.types import *\n",
    "import os"
   ]
  },
  {
   "cell_type": "code",
   "execution_count": 3,
   "id": "scenic-source",
   "metadata": {},
   "outputs": [],
   "source": [
    "## Download Jars for Spark\n",
    "\n",
    "os.environ['PYSPARK_SUBMIT_ARGS'] = ' --packages org.apache.spark:spark-sql-kafka-0-10_2.11:2.4.4 pyspark-shell'"
   ]
  },
  {
   "cell_type": "code",
   "execution_count": 4,
   "id": "federal-northwest",
   "metadata": {},
   "outputs": [],
   "source": [
    "# Initialize Spark Session\n",
    "\n",
    "spark = SparkSession.builder.appName('Spark Structured Streaming') \\\n",
    "        .getOrCreate()"
   ]
  },
  {
   "cell_type": "code",
   "execution_count": 5,
   "id": "fantastic-watts",
   "metadata": {},
   "outputs": [],
   "source": [
    "# Subscribe to Kafka topic\n",
    "\n",
    "df = spark.readStream.format('kafka').option(\"kafka.bootstrap.servers\", \"localhost:9092\").option(\"subscribe\", \"twitter\").load()"
   ]
  },
  {
   "cell_type": "code",
   "execution_count": 6,
   "id": "stuck-resident",
   "metadata": {},
   "outputs": [],
   "source": [
    "# Defining the Json Schema, important to map the Json string into Dataframe types (from pyspark.sql.types import *)\n",
    "\n",
    "jsonSchema = StructType([StructField(\"created_at\", DoubleType(), True), \n",
    "                         StructField(\"hashtags\", ArrayType(StructType([\n",
    "                            StructField(\"text\", StringType(), True), \n",
    "                             StructField(\"indices\", \n",
    "                                         ArrayType(IntegerType(), True))])), True),\n",
    "                         StructField(\"favorite_count\", DoubleType(), True), \n",
    "                         StructField(\"retweet_count\", DoubleType(), True),\n",
    "                         StructField(\"text\", StringType(), True), \n",
    "                         StructField(\"id\", StringType(), True),\n",
    "                         StructField(\"geo\", StructType([\n",
    "                             StructField(\"type\", StringType(), True), \n",
    "                             StructField(\"coordinates\", \n",
    "                                         ArrayType(LongType(), True))]), True), \n",
    "                         StructField(\"lang\", StringType(), True)])"
   ]
  },
  {
   "cell_type": "code",
   "execution_count": 7,
   "id": "present-reservoir",
   "metadata": {},
   "outputs": [],
   "source": [
    "df = df.selectExpr(\"CAST(key AS STRING)\", \"CAST(value AS STRING)\") \\\n",
    "     .withColumn(\"json\", from_json(col('value').cast(\"string\"), jsonSchema))"
   ]
  },
  {
   "cell_type": "code",
   "execution_count": 8,
   "id": "asian-hours",
   "metadata": {},
   "outputs": [],
   "source": [
    "# Count by Language\n",
    "lang_count = df.groupBy(\"json.lang\").count().sort(desc(\"count\")) \\\n",
    "            .writeStream \\\n",
    "            .outputMode(\"complete\") \\\n",
    "            .format(\"console\") \\\n",
    "            .option(\"truncate\", \"false\") \\\n",
    "            .start()"
   ]
  },
  {
   "cell_type": "code",
   "execution_count": 9,
   "id": "genuine-ideal",
   "metadata": {},
   "outputs": [],
   "source": [
    "\n",
    "#Stop the query - this is for testing purpose in produciton we use awaitTermination()\n",
    "lang_count.stop()"
   ]
  },
  {
   "cell_type": "markdown",
   "id": "referenced-warrior",
   "metadata": {},
   "source": [
    "### Exercício 1\n",
    "\n",
    "Some os valores dos campo *favorite_count* por *lang*"
   ]
  },
  {
   "cell_type": "code",
   "execution_count": 16,
   "id": "opening-gateway",
   "metadata": {},
   "outputs": [],
   "source": [
    "# Count by Language\n",
    "favorite_sum = df.groupBy(\"json.lang\").sum(\"json.favorite_count\") \\\n",
    "            .writeStream \\\n",
    "            .outputMode(\"complete\") \\\n",
    "            .format(\"console\") \\\n",
    "            .option(\"truncate\", \"false\") \\\n",
    "            .start()"
   ]
  },
  {
   "cell_type": "code",
   "execution_count": 17,
   "id": "signal-violation",
   "metadata": {},
   "outputs": [],
   "source": [
    "favorite_sum.stop()"
   ]
  },
  {
   "cell_type": "markdown",
   "id": "adapted-carrier",
   "metadata": {},
   "source": [
    "### Exercício 2\n",
    "\n",
    "Deixe os valores do campo *lang* em caixa alta\n",
    "\n",
    "Dica: upper()"
   ]
  },
  {
   "cell_type": "code",
   "execution_count": 26,
   "id": "turkish-emission",
   "metadata": {},
   "outputs": [],
   "source": [
    "lang_alta = df.select(upper(col(\"json.lang\"))) \\\n",
    "            .writeStream \\\n",
    "            .outputMode(\"update\") \\\n",
    "            .format(\"console\") \\\n",
    "            .option(\"truncate\", \"false\") \\\n",
    "            .start()"
   ]
  },
  {
   "cell_type": "code",
   "execution_count": 27,
   "id": "protective-ontario",
   "metadata": {},
   "outputs": [],
   "source": [
    "lang_alta.stop()"
   ]
  }
 ],
 "metadata": {
  "kernelspec": {
   "display_name": "Python 3",
   "language": "python",
   "name": "python3"
  },
  "language_info": {
   "codemirror_mode": {
    "name": "ipython",
    "version": 3
   },
   "file_extension": ".py",
   "mimetype": "text/x-python",
   "name": "python",
   "nbconvert_exporter": "python",
   "pygments_lexer": "ipython3",
   "version": "3.7.5"
  }
 },
 "nbformat": 4,
 "nbformat_minor": 5
}
