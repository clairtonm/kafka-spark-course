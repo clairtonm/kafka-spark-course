{
 "cells": [
  {
   "cell_type": "code",
   "execution_count": 1,
   "id": "1f487fb2",
   "metadata": {},
   "outputs": [
    {
     "data": {
      "text/plain": [
       "'C:\\\\Apps\\\\spark-2.4.7-bin-hadoop2.7'"
      ]
     },
     "execution_count": 1,
     "metadata": {},
     "output_type": "execute_result"
    }
   ],
   "source": [
    "import findspark\n",
    "findspark.init()\n",
    "findspark.find()\n",
    "\n",
    "import pyspark\n",
    "findspark.find()"
   ]
  },
  {
   "cell_type": "code",
   "execution_count": 2,
   "id": "48827729",
   "metadata": {},
   "outputs": [],
   "source": [
    "from pyspark.sql import SparkSession\n",
    "from pyspark.sql.functions import from_json, col, desc, trim, col, sum, avg, max, to_json\n",
    "\n",
    "from pyspark.sql.types import *\n",
    "import os"
   ]
  },
  {
   "cell_type": "code",
   "execution_count": 3,
   "id": "e723c374",
   "metadata": {},
   "outputs": [],
   "source": [
    "## Download Jars for Spark\n",
    "\n",
    "os.environ['PYSPARK_SUBMIT_ARGS'] = ' --packages org.apache.spark:spark-sql-kafka-0-10_2.11:2.4.4 pyspark-shell'"
   ]
  },
  {
   "cell_type": "code",
   "execution_count": 4,
   "id": "1a6571cd",
   "metadata": {},
   "outputs": [],
   "source": [
    "# Initialize Spark Session\n",
    "\n",
    "spark = SparkSession.builder.appName('Spark Structured Streaming') \\\n",
    "        .getOrCreate()\n",
    "\n",
    "# spark = SparkSession.builder.appName('Spark Structured Streaming') \\\n",
    "#         .master(\"spark://0.0.0.0:7077\") \\\n",
    "#         .getOrCreate()"
   ]
  },
  {
   "cell_type": "markdown",
   "id": "8a7331f1",
   "metadata": {},
   "source": [
    "## kafka"
   ]
  },
  {
   "cell_type": "code",
   "execution_count": 5,
   "id": "28092190",
   "metadata": {},
   "outputs": [],
   "source": [
    "# Subscribe to Kafka topic\n",
    "\n",
    "df = spark.readStream.format('kafka').option(\"kafka.bootstrap.servers\", \"localhost:9092\").option(\"subscribe\", \"log\").load()"
   ]
  },
  {
   "cell_type": "code",
   "execution_count": 6,
   "id": "9b43a12c",
   "metadata": {},
   "outputs": [],
   "source": [
    "schema = StructType([StructField(\"Date first seen\", StringType(), True),\n",
    "                    StructField(\"Duration\", StringType(), True),\n",
    "                    StructField(\"Proto\", StringType(), True),\n",
    "                    StructField(\"Src IP Addr\", StringType(), True),\n",
    "                    StructField(\"Src Pt\", StringType(), True),\n",
    "                    StructField(\"Packets\", StringType(), True),\n",
    "                    StructField(\"Bytes\", StringType(), True),\n",
    "                    StructField(\"Flows\", StringType(), True),\n",
    "                    StructField(\"Flags\", StringType(), True),\n",
    "                    StructField(\"Tos\", StringType(), True),\n",
    "                    StructField(\"class\", StringType(), True),\n",
    "                    StructField(\"attackType\", StringType(), True),\n",
    "                    StructField(\"attackID\", StringType(), True),\n",
    "                    StructField(\"attackDescription\", StringType(), True)])"
   ]
  },
  {
   "cell_type": "code",
   "execution_count": 7,
   "id": "809d4be5",
   "metadata": {},
   "outputs": [],
   "source": [
    "df = df.selectExpr(\"CAST(key AS STRING)\", \"CAST(value AS STRING)\")\\\n",
    "        .withColumn(\"json\", from_json(col('value').cast('string'), schema))\\"
   ]
  },
  {
   "cell_type": "code",
   "execution_count": 8,
   "id": "bbbc362a",
   "metadata": {},
   "outputs": [],
   "source": [
    "# Cast columns\n",
    "df = df.withColumn(\"Date first seen\", col(\"json.Date first seen\").cast(TimestampType())) \\\n",
    "        .withColumn(\"Duration\", col(\"json.Duration\").cast(\"double\")) \\\n",
    "        .withColumn(\"Packets\", trim(col(\"json.Packets\")).cast(IntegerType()))"
   ]
  },
  {
   "cell_type": "markdown",
   "id": "stylish-sister",
   "metadata": {},
   "source": [
    "### Append Mode"
   ]
  },
  {
   "cell_type": "code",
   "execution_count": 11,
   "id": "961534e9",
   "metadata": {},
   "outputs": [],
   "source": [
    "query = df.select(\"json.*\").writeStream \\\n",
    "            .outputMode(\"append\") \\\n",
    "            .format(\"console\") \\\n",
    "            .option(\"truncate\", \"false\") \\\n",
    "            .start()"
   ]
  },
  {
   "cell_type": "code",
   "execution_count": null,
   "id": "f1cd6118",
   "metadata": {},
   "outputs": [],
   "source": [
    "query.stop()"
   ]
  },
  {
   "cell_type": "markdown",
   "id": "standard-emphasis",
   "metadata": {},
   "source": [
    "### Update Mode"
   ]
  },
  {
   "cell_type": "code",
   "execution_count": 13,
   "id": "c151944c",
   "metadata": {},
   "outputs": [],
   "source": [
    "# Avg of the numeric types\n",
    "\n",
    "avg = df.groupBy(\"json.class\").mean() \\\n",
    "        .writeStream \\\n",
    "        .outputMode(\"update\") \\\n",
    "        .format(\"console\") \\\n",
    "        .option(\"truncate\", \"false\") \\\n",
    "        .start()"
   ]
  },
  {
   "cell_type": "code",
   "execution_count": 14,
   "id": "f21526f3",
   "metadata": {},
   "outputs": [],
   "source": [
    "avg.stop()"
   ]
  },
  {
   "cell_type": "markdown",
   "id": "genetic-supervision",
   "metadata": {},
   "source": [
    "### Complete Mode"
   ]
  },
  {
   "cell_type": "code",
   "execution_count": 16,
   "id": "18e39322",
   "metadata": {},
   "outputs": [],
   "source": [
    "# Filter and GroupBy by Class\n",
    "\n",
    "class_query = df.select(\"json.*\").where(col(\"Class\") != \"normal\") \\\n",
    "                .groupBy(\"Class\").count() \\\n",
    "                .writeStream \\\n",
    "                .outputMode(\"complete\") \\\n",
    "                .format(\"console\") \\\n",
    "                .option(\"truncate\", \"false\") \\\n",
    "                .start()"
   ]
  },
  {
   "cell_type": "code",
   "execution_count": 17,
   "id": "a155697a",
   "metadata": {},
   "outputs": [],
   "source": [
    "class_query.stop()"
   ]
  },
  {
   "cell_type": "code",
   "execution_count": 9,
   "id": "644b4ec8",
   "metadata": {},
   "outputs": [],
   "source": [
    "# Sum, Count and AVG by class\n",
    "\n",
    "class_query_2 = df.groupBy(\"json.class\") \\\n",
    "                .agg({'json.class':'count', 'Packets': 'sum', 'Duration': 'avg' }) \\\n",
    "                .writeStream \\\n",
    "                .outputMode(\"complete\") \\\n",
    "                .format(\"console\") \\\n",
    "                .option(\"truncate\", \"false\") \\\n",
    "                .start()"
   ]
  },
  {
   "cell_type": "code",
   "execution_count": 10,
   "id": "9aade764",
   "metadata": {},
   "outputs": [],
   "source": [
    "class_query_2.stop()"
   ]
  },
  {
   "cell_type": "code",
   "execution_count": 11,
   "id": "6ffed97d",
   "metadata": {},
   "outputs": [
    {
     "name": "stdout",
     "output_type": "stream",
     "text": [
      "root\n",
      " |-- key: string (nullable = true)\n",
      " |-- value: string (nullable = true)\n",
      " |-- json: struct (nullable = true)\n",
      " |    |-- Date first seen: string (nullable = true)\n",
      " |    |-- Duration: string (nullable = true)\n",
      " |    |-- Proto: string (nullable = true)\n",
      " |    |-- Src IP Addr: string (nullable = true)\n",
      " |    |-- Src Pt: string (nullable = true)\n",
      " |    |-- Packets: string (nullable = true)\n",
      " |    |-- Bytes: string (nullable = true)\n",
      " |    |-- Flows: string (nullable = true)\n",
      " |    |-- Flags: string (nullable = true)\n",
      " |    |-- Tos: string (nullable = true)\n",
      " |    |-- class: string (nullable = true)\n",
      " |    |-- attackType: string (nullable = true)\n",
      " |    |-- attackID: string (nullable = true)\n",
      " |    |-- attackDescription: string (nullable = true)\n",
      " |-- Date first seen: timestamp (nullable = true)\n",
      " |-- Duration: double (nullable = true)\n",
      " |-- Packets: integer (nullable = true)\n",
      "\n"
     ]
    }
   ],
   "source": [
    "df.printSchema()"
   ]
  },
  {
   "cell_type": "markdown",
   "id": "educated-afternoon",
   "metadata": {},
   "source": [
    "## Kafka"
   ]
  },
  {
   "cell_type": "code",
   "execution_count": 14,
   "id": "painted-wesley",
   "metadata": {},
   "outputs": [],
   "source": [
    "kafka_query = df.select(col(\"key\"), col(\"value\")).withColumn(\"value\", col(\"value\").cast(StringType())) \\\n",
    "        .writeStream.format(\"kafka\") \\\n",
    "        .option(\"kafka.bootstrap.servers\", \"localhost:9092\") \\\n",
    "        .option(\"checkpointLocation\", \"kafka_checpoint/\") \\\n",
    "        .option(\"failOnDataLoss\", \"false\") \\\n",
    "        .option(\"topic\", \"log-result\") \\\n",
    "        .start()"
   ]
  },
  {
   "cell_type": "code",
   "execution_count": 15,
   "id": "standing-royal",
   "metadata": {},
   "outputs": [],
   "source": [
    "kafka_query.stop()"
   ]
  },
  {
   "cell_type": "code",
   "execution_count": null,
   "id": "chubby-turtle",
   "metadata": {},
   "outputs": [],
   "source": []
  }
 ],
 "metadata": {
  "kernelspec": {
   "display_name": "Python 3",
   "language": "python",
   "name": "python3"
  },
  "language_info": {
   "codemirror_mode": {
    "name": "ipython",
    "version": 3
   },
   "file_extension": ".py",
   "mimetype": "text/x-python",
   "name": "python",
   "nbconvert_exporter": "python",
   "pygments_lexer": "ipython3",
   "version": "3.7.5"
  }
 },
 "nbformat": 4,
 "nbformat_minor": 5
}
