{
 "cells": [
  {
   "cell_type": "markdown",
   "id": "96405b40-4770-4d41-901b-e86e2b06a08c",
   "metadata": {},
   "source": [
    "## ETL Tweets - Batch load from JSON to Elasticsearch"
   ]
  },
  {
   "cell_type": "markdown",
   "id": "7c4acfb6-d48e-426d-8529-f01ce07579b0",
   "metadata": {},
   "source": [
    "### Install dependences"
   ]
  },
  {
   "cell_type": "raw",
   "id": "89d09104-c2a3-4bd5-ba86-185161c2da28",
   "metadata": {},
   "source": [
    "!pip install elasticsearch\n",
    "!pip install pandas\n",
    "!pip install geopy\n",
    "!pip install kafka\n",
    "!pip install pykafka"
   ]
  },
  {
   "cell_type": "markdown",
   "id": "3d2322de-a08b-4cd3-9554-a6078ebc173a",
   "metadata": {},
   "source": [
    "### Data load and overview"
   ]
  },
  {
   "cell_type": "code",
   "execution_count": 1,
   "id": "b403226e-d88a-4702-baa1-a740ef01ea0e",
   "metadata": {},
   "outputs": [],
   "source": [
    "# required lib imports\n",
    "import pandas as pd\n",
    "from elasticsearch import Elasticsearch\n",
    "from elasticsearch.helpers import bulk\n",
    "from datetime import datetime\n",
    "import json\n",
    "import itertools\n",
    "from geopy.geocoders import Nominatim\n",
    "geolocator = Nominatim(user_agent=\"test\")\n",
    "\n",
    "from kafka.producer import KafkaProducer\n",
    "import time\n",
    "from kafka.errors import KafkaTimeoutError"
   ]
  },
  {
   "cell_type": "code",
   "execution_count": 2,
   "id": "54297aff-0e3f-4891-b3f8-9a51847648e7",
   "metadata": {},
   "outputs": [
    {
     "data": {
      "text/html": [
       "<div>\n",
       "<style scoped>\n",
       "    .dataframe tbody tr th:only-of-type {\n",
       "        vertical-align: middle;\n",
       "    }\n",
       "\n",
       "    .dataframe tbody tr th {\n",
       "        vertical-align: top;\n",
       "    }\n",
       "\n",
       "    .dataframe thead th {\n",
       "        text-align: right;\n",
       "    }\n",
       "</style>\n",
       "<table border=\"1\" class=\"dataframe\">\n",
       "  <thead>\n",
       "    <tr style=\"text-align: right;\">\n",
       "      <th></th>\n",
       "      <th>created_at</th>\n",
       "      <th>hashtags</th>\n",
       "      <th>favorite_count</th>\n",
       "      <th>retweet_count</th>\n",
       "      <th>text</th>\n",
       "      <th>id</th>\n",
       "      <th>geo</th>\n",
       "      <th>lang</th>\n",
       "    </tr>\n",
       "  </thead>\n",
       "  <tbody>\n",
       "    <tr>\n",
       "      <th>0</th>\n",
       "      <td>2021-03-21 00:55:13</td>\n",
       "      <td>[]</td>\n",
       "      <td>55835</td>\n",
       "      <td>7346</td>\n",
       "      <td>COVID outbreak at Mar-a-Lago. Pivate plane  fa...</td>\n",
       "      <td>1373392710560673794</td>\n",
       "      <td>None</td>\n",
       "      <td>en</td>\n",
       "    </tr>\n",
       "    <tr>\n",
       "      <th>1</th>\n",
       "      <td>2021-03-20 17:44:58</td>\n",
       "      <td>[]</td>\n",
       "      <td>35367</td>\n",
       "      <td>7222</td>\n",
       "      <td>Aonde foram parar os bilhões de reais enviados...</td>\n",
       "      <td>1373284436054319107</td>\n",
       "      <td>None</td>\n",
       "      <td>pt</td>\n",
       "    </tr>\n",
       "    <tr>\n",
       "      <th>2</th>\n",
       "      <td>2021-03-20 17:19:12</td>\n",
       "      <td>[]</td>\n",
       "      <td>140204</td>\n",
       "      <td>15558</td>\n",
       "      <td>Best wishes to Prime Minister @ImranKhanPTI fo...</td>\n",
       "      <td>1373277949462466560</td>\n",
       "      <td>None</td>\n",
       "      <td>en</td>\n",
       "    </tr>\n",
       "    <tr>\n",
       "      <th>3</th>\n",
       "      <td>2021-03-21 23:26:47</td>\n",
       "      <td>[]</td>\n",
       "      <td>0</td>\n",
       "      <td>0</td>\n",
       "      <td>yeah my second job got so many covid cases i h...</td>\n",
       "      <td>1373732844162408455</td>\n",
       "      <td>None</td>\n",
       "      <td>en</td>\n",
       "    </tr>\n",
       "    <tr>\n",
       "      <th>4</th>\n",
       "      <td>2021-03-21 23:26:47</td>\n",
       "      <td>[]</td>\n",
       "      <td>0</td>\n",
       "      <td>0</td>\n",
       "      <td>WR’s next event is our “Covid Anti-versary How...</td>\n",
       "      <td>1373732843164155907</td>\n",
       "      <td>None</td>\n",
       "      <td>en</td>\n",
       "    </tr>\n",
       "  </tbody>\n",
       "</table>\n",
       "</div>"
      ],
      "text/plain": [
       "           created_at hashtags  favorite_count  retweet_count  \\\n",
       "0 2021-03-21 00:55:13       []           55835           7346   \n",
       "1 2021-03-20 17:44:58       []           35367           7222   \n",
       "2 2021-03-20 17:19:12       []          140204          15558   \n",
       "3 2021-03-21 23:26:47       []               0              0   \n",
       "4 2021-03-21 23:26:47       []               0              0   \n",
       "\n",
       "                                                text                   id  \\\n",
       "0  COVID outbreak at Mar-a-Lago. Pivate plane  fa...  1373392710560673794   \n",
       "1  Aonde foram parar os bilhões de reais enviados...  1373284436054319107   \n",
       "2  Best wishes to Prime Minister @ImranKhanPTI fo...  1373277949462466560   \n",
       "3  yeah my second job got so many covid cases i h...  1373732844162408455   \n",
       "4  WR’s next event is our “Covid Anti-versary How...  1373732843164155907   \n",
       "\n",
       "    geo lang  \n",
       "0  None   en  \n",
       "1  None   pt  \n",
       "2  None   en  \n",
       "3  None   en  \n",
       "4  None   en  "
      ]
     },
     "execution_count": 2,
     "metadata": {},
     "output_type": "execute_result"
    }
   ],
   "source": [
    "# load dataset / preview\n",
    "df = pd.read_json('tweets.json')\n",
    "df.head()"
   ]
  },
  {
   "cell_type": "code",
   "execution_count": 3,
   "id": "135091cf-55f3-4ea3-995e-a533ed8efb12",
   "metadata": {},
   "outputs": [
    {
     "name": "stdout",
     "output_type": "stream",
     "text": [
      "<class 'pandas.core.frame.DataFrame'>\n",
      "RangeIndex: 1000 entries, 0 to 999\n",
      "Data columns (total 8 columns):\n",
      " #   Column          Non-Null Count  Dtype         \n",
      "---  ------          --------------  -----         \n",
      " 0   created_at      1000 non-null   datetime64[ns]\n",
      " 1   hashtags        1000 non-null   object        \n",
      " 2   favorite_count  1000 non-null   int64         \n",
      " 3   retweet_count   1000 non-null   int64         \n",
      " 4   text            1000 non-null   object        \n",
      " 5   id              1000 non-null   int64         \n",
      " 6   geo             3 non-null      object        \n",
      " 7   lang            1000 non-null   object        \n",
      "dtypes: datetime64[ns](1), int64(3), object(4)\n",
      "memory usage: 62.6+ KB\n"
     ]
    }
   ],
   "source": [
    "# general information\n",
    "df.info()"
   ]
  },
  {
   "cell_type": "code",
   "execution_count": 4,
   "id": "0dadbeb4-ac9e-4e6d-983e-456976721f5d",
   "metadata": {},
   "outputs": [
    {
     "data": {
      "text/html": [
       "<div>\n",
       "<style scoped>\n",
       "    .dataframe tbody tr th:only-of-type {\n",
       "        vertical-align: middle;\n",
       "    }\n",
       "\n",
       "    .dataframe tbody tr th {\n",
       "        vertical-align: top;\n",
       "    }\n",
       "\n",
       "    .dataframe thead th {\n",
       "        text-align: right;\n",
       "    }\n",
       "</style>\n",
       "<table border=\"1\" class=\"dataframe\">\n",
       "  <thead>\n",
       "    <tr style=\"text-align: right;\">\n",
       "      <th></th>\n",
       "      <th>created_at</th>\n",
       "      <th>hashtags</th>\n",
       "      <th>favorite_count</th>\n",
       "      <th>retweet_count</th>\n",
       "      <th>text</th>\n",
       "      <th>id</th>\n",
       "      <th>geo</th>\n",
       "      <th>lang</th>\n",
       "    </tr>\n",
       "  </thead>\n",
       "  <tbody>\n",
       "    <tr>\n",
       "      <th>342</th>\n",
       "      <td>2021-03-20 17:17:46</td>\n",
       "      <td>[{'text': 'cvspharmtech', 'indices': [112, 125...</td>\n",
       "      <td>0</td>\n",
       "      <td>0</td>\n",
       "      <td>Can you recommend anyone for this job? COVID 1...</td>\n",
       "      <td>1373277590945890306</td>\n",
       "      <td>{'type': 'Point', 'coordinates': [37.2453843, ...</td>\n",
       "      <td>en</td>\n",
       "    </tr>\n",
       "    <tr>\n",
       "      <th>347</th>\n",
       "      <td>2021-03-20 17:17:45</td>\n",
       "      <td>[]</td>\n",
       "      <td>0</td>\n",
       "      <td>0</td>\n",
       "      <td>Stop staring at the clock every day. It's time...</td>\n",
       "      <td>1373277588005679104</td>\n",
       "      <td>{'type': 'Point', 'coordinates': [41.3374374, ...</td>\n",
       "      <td>en</td>\n",
       "    </tr>\n",
       "    <tr>\n",
       "      <th>649</th>\n",
       "      <td>2021-03-20 17:16:16</td>\n",
       "      <td>[{'text': 'pharmacy', 'indices': [89, 98]}, {'...</td>\n",
       "      <td>0</td>\n",
       "      <td>0</td>\n",
       "      <td>If you're looking for work in Whitehall, OH, c...</td>\n",
       "      <td>1373277212560912385</td>\n",
       "      <td>{'type': 'Point', 'coordinates': [39.956025, -...</td>\n",
       "      <td>en</td>\n",
       "    </tr>\n",
       "  </tbody>\n",
       "</table>\n",
       "</div>"
      ],
      "text/plain": [
       "             created_at                                           hashtags  \\\n",
       "342 2021-03-20 17:17:46  [{'text': 'cvspharmtech', 'indices': [112, 125...   \n",
       "347 2021-03-20 17:17:45                                                 []   \n",
       "649 2021-03-20 17:16:16  [{'text': 'pharmacy', 'indices': [89, 98]}, {'...   \n",
       "\n",
       "     favorite_count  retweet_count  \\\n",
       "342               0              0   \n",
       "347               0              0   \n",
       "649               0              0   \n",
       "\n",
       "                                                  text                   id  \\\n",
       "342  Can you recommend anyone for this job? COVID 1...  1373277590945890306   \n",
       "347  Stop staring at the clock every day. It's time...  1373277588005679104   \n",
       "649  If you're looking for work in Whitehall, OH, c...  1373277212560912385   \n",
       "\n",
       "                                                   geo lang  \n",
       "342  {'type': 'Point', 'coordinates': [37.2453843, ...   en  \n",
       "347  {'type': 'Point', 'coordinates': [41.3374374, ...   en  \n",
       "649  {'type': 'Point', 'coordinates': [39.956025, -...   en  "
      ]
     },
     "execution_count": 4,
     "metadata": {},
     "output_type": "execute_result"
    }
   ],
   "source": [
    "# show records with geo not null\n",
    "df.loc[\n",
    "    df['geo'].notnull()\n",
    "]"
   ]
  },
  {
   "cell_type": "code",
   "execution_count": 5,
   "id": "d018a323-72b7-473a-84b6-f7807763c480",
   "metadata": {},
   "outputs": [
    {
     "data": {
      "text/plain": [
       "en     523\n",
       "pt     180\n",
       "es     120\n",
       "fr      33\n",
       "in      31\n",
       "it      30\n",
       "und     20\n",
       "tl      16\n",
       "ja       8\n",
       "de       5\n",
       "Name: lang, dtype: int64"
      ]
     },
     "execution_count": 5,
     "metadata": {},
     "output_type": "execute_result"
    }
   ],
   "source": [
    "# top 10 languages\n",
    "df['lang'].value_counts().nlargest(10)"
   ]
  },
  {
   "cell_type": "markdown",
   "id": "03db3501-d092-4efd-b75f-5a4550b8f5e0",
   "metadata": {},
   "source": [
    "### Data Transformation\n",
    "* created_at must to have ISO format ```(resolved on the bulk insert step)```\n",
    "* geo is a nested dict with a list with longitude and latitude. It will converted to country ISO cca2 format ```(resolved on the bulk insert step)```\n",
    "* hashtag is a nested list with dicts. The grain of information is diferent, so it needs to be separeted metric ```(resolved on nexts steps)```"
   ]
  },
  {
   "cell_type": "code",
   "execution_count": 6,
   "id": "2e4b8ac5-f571-4e30-9e43-6be46970b9db",
   "metadata": {},
   "outputs": [
    {
     "name": "stdout",
     "output_type": "stream",
     "text": [
      "<class 'pandas.core.frame.DataFrame'>\n",
      "RangeIndex: 3 entries, 0 to 2\n",
      "Data columns (total 9 columns):\n",
      " #   Column          Non-Null Count  Dtype         \n",
      "---  ------          --------------  -----         \n",
      " 0   index           3 non-null      int64         \n",
      " 1   created_at      3 non-null      datetime64[ns]\n",
      " 2   hashtags        3 non-null      object        \n",
      " 3   favorite_count  3 non-null      int64         \n",
      " 4   retweet_count   3 non-null      int64         \n",
      " 5   text            3 non-null      object        \n",
      " 6   id              3 non-null      int64         \n",
      " 7   geo             3 non-null      object        \n",
      " 8   lang            3 non-null      object        \n",
      "dtypes: datetime64[ns](1), int64(4), object(4)\n",
      "memory usage: 344.0+ bytes\n",
      "None\n",
      "------------------\n",
      "<class 'pandas.core.frame.DataFrame'>\n",
      "RangeIndex: 997 entries, 0 to 996\n",
      "Data columns (total 9 columns):\n",
      " #   Column          Non-Null Count  Dtype         \n",
      "---  ------          --------------  -----         \n",
      " 0   index           997 non-null    int64         \n",
      " 1   created_at      997 non-null    datetime64[ns]\n",
      " 2   hashtags        997 non-null    object        \n",
      " 3   favorite_count  997 non-null    int64         \n",
      " 4   retweet_count   997 non-null    int64         \n",
      " 5   text            997 non-null    object        \n",
      " 6   id              997 non-null    int64         \n",
      " 7   geo             0 non-null      object        \n",
      " 8   lang            997 non-null    object        \n",
      "dtypes: datetime64[ns](1), int64(4), object(4)\n",
      "memory usage: 70.2+ KB\n",
      "None\n"
     ]
    }
   ],
   "source": [
    "# split Dataframes - with and without geo\n",
    "df_with_geo = df.copy().loc[\n",
    "                    df['geo'].notnull()\n",
    "                ].reset_index()\n",
    "df_without_geo = df.copy().loc[\n",
    "                    df['geo'].isnull()\n",
    "                ].reset_index()\n",
    "\n",
    "print(df_with_geo.info())\n",
    "print(\"------------------\")\n",
    "print(df_without_geo.info())"
   ]
  },
  {
   "cell_type": "code",
   "execution_count": 7,
   "id": "4398cc18-749f-4d75-a54c-fb0e8d3a408b",
   "metadata": {},
   "outputs": [],
   "source": [
    "# preparing the bulk data for index insert\n",
    "bulk_data_with_geo = df_with_geo.to_dict('records')\n",
    "bulk_data_without_geo = df_without_geo.to_dict('records')\n",
    "bulk_data_complete = df.to_dict('records')"
   ]
  },
  {
   "cell_type": "code",
   "execution_count": 8,
   "id": "ca7c939f-aa89-4985-8bb7-53c26ff8fbe3",
   "metadata": {},
   "outputs": [
    {
     "data": {
      "text/plain": [
       "294"
      ]
     },
     "execution_count": 8,
     "metadata": {},
     "output_type": "execute_result"
    }
   ],
   "source": [
    "# get hashtags list\n",
    "hastags_list = []\n",
    "for tweet in bulk_data_complete:\n",
    "    hastags_list.append([hashtag['text'].lower() for hashtag in tweet['hashtags']])\n",
    "\n",
    "# flatten hashtags list\n",
    "hastags_list = list(itertools.chain(*hastags_list))\n",
    "\n",
    "len(hastags_list)"
   ]
  },
  {
   "cell_type": "markdown",
   "id": "8de97ed0-b2ce-4ef0-8842-052393b66c6f",
   "metadata": {},
   "source": [
    "### Elasticsearch bulk insert"
   ]
  },
  {
   "cell_type": "code",
   "execution_count": 11,
   "id": "1b47e0a1-87d3-460f-b63b-cc84c02d86f8",
   "metadata": {},
   "outputs": [],
   "source": [
    "# create a elastic instance\n",
    "es = Elasticsearch()"
   ]
  },
  {
   "cell_type": "code",
   "execution_count": 12,
   "id": "ed1ac203-6a10-426e-ae01-62c5c5e769d9",
   "metadata": {},
   "outputs": [
    {
     "data": {
      "text/plain": [
       "(3, [])"
      ]
     },
     "execution_count": 12,
     "metadata": {},
     "output_type": "execute_result"
    }
   ],
   "source": [
    "# bulk insert of tweets_index with geo information\n",
    "bulk_data = [\n",
    "        {\n",
    "            \"_index\": \"tweets_data\",\n",
    "            \"_origin\": \"batch_tweets\",\n",
    "            \"_source\": {\n",
    "                'created_at': tweet['created_at'].isoformat(), \n",
    "                'id_twitter': tweet['id'],\n",
    "                'text_tweet': tweet['text'],\n",
    "                'language': tweet['lang'],\n",
    "                'hashtags': \", \".join([hashtags['text'] for hashtags in tweet['hashtags']]),\n",
    "                'favorite_count': tweet['favorite_count'],\n",
    "                'retweet_count': tweet['retweet_count'],\n",
    "                #'geo_coordinates': \",\".join([str(coordinates) for coordinates in (tweet['geo']['coordinates']) ])\n",
    "                'country': geolocator.reverse(\n",
    "                                \",\".join([str(coordinates) for coordinates in (tweet['geo']['coordinates'])])\n",
    "                            ).raw['address']['country'],\n",
    "                'country_code': geolocator.reverse(\n",
    "                                \",\".join([str(coordinates) for coordinates in (tweet['geo']['coordinates'])])\n",
    "                            ).raw['address']['country_code']\n",
    "                \n",
    "            }\n",
    "        } for tweet in bulk_data_with_geo\n",
    "    ]\n",
    "bulk(es, bulk_data)"
   ]
  },
  {
   "cell_type": "code",
   "execution_count": 13,
   "id": "c92d0d7a-dc63-4774-b4b2-bdbfb7f1d22e",
   "metadata": {},
   "outputs": [
    {
     "data": {
      "text/plain": [
       "(997, [])"
      ]
     },
     "execution_count": 13,
     "metadata": {},
     "output_type": "execute_result"
    }
   ],
   "source": [
    "# bulk insert of tweets_index without geo information\n",
    "bulk_data = [\n",
    "        {\n",
    "            \"_index\": \"tweets_data\",\n",
    "            \"_origin\": \"batch_tweets\",\n",
    "            \"_source\": {\n",
    "                'created_at': tweet['created_at'].isoformat(),\n",
    "                'id_twitter': tweet['id'],\n",
    "                'text_tweet': tweet['text'],\n",
    "                'language': tweet['lang'],\n",
    "                'hashtags': \", \".join([hashtags['text'] for hashtags in tweet['hashtags']]),\n",
    "                'favorite_count': tweet['favorite_count'],\n",
    "                'retweet_count': tweet['retweet_count'],\n",
    "                #'geo_coordinates': \",\".join([str(coordinates) for coordinates in (tweet['geo']['coordinates']) ])\n",
    "                'country': tweet['geo'],\n",
    "                'country_code': tweet['geo']\n",
    "            }\n",
    "        } for tweet in bulk_data_without_geo\n",
    "    ]\n",
    "bulk(es, bulk_data)"
   ]
  },
  {
   "cell_type": "code",
   "execution_count": 14,
   "id": "6e684923-0a07-4770-af52-a9ad02a2c1e3",
   "metadata": {},
   "outputs": [
    {
     "data": {
      "text/plain": [
       "(294, [])"
      ]
     },
     "execution_count": 14,
     "metadata": {},
     "output_type": "execute_result"
    }
   ],
   "source": [
    "# bulk insert of hashtags\n",
    "bulk_data = [\n",
    "        {\n",
    "            \"_index\": \"tweets_hashtags\",\n",
    "            \"_origin\": \"batch_tweets\",\n",
    "            \"_source\": {\n",
    "                'created_at': datetime.now(),\n",
    "                'hashtag': hashtag\n",
    "            }\n",
    "        } for hashtag in hastags_list\n",
    "    ]\n",
    "bulk(es, bulk_data)"
   ]
  },
  {
   "cell_type": "markdown",
   "id": "6b36a7d3-c861-4f33-b613-0ada3ecdc571",
   "metadata": {},
   "source": [
    "## Kafka Ingestion"
   ]
  },
  {
   "cell_type": "code",
   "execution_count": 9,
   "id": "e5e0415d-dc8c-46cf-81d3-71bb768c85e5",
   "metadata": {},
   "outputs": [],
   "source": [
    "kafka_data_with_geo = [\n",
    "        { \n",
    "            'created_at': tweet['created_at'].isoformat(), \n",
    "            'id_twitter': tweet['id'],\n",
    "            'text_tweet': tweet['text'],\n",
    "            'language': tweet['lang'],\n",
    "            'hashtags': \", \".join([hashtags['text'] for hashtags in tweet['hashtags']]),\n",
    "            'favorite_count': tweet['favorite_count'],\n",
    "            'retweet_count': tweet['retweet_count'],\n",
    "            #'geo_coordinates': \",\".join([str(coordinates) for coordinates in (tweet['geo']['coordinates']) ])\n",
    "            'country': geolocator.reverse(\n",
    "                            \",\".join([str(coordinates) for coordinates in (tweet['geo']['coordinates'])])\n",
    "                        ).raw['address']['country'],\n",
    "            'country_code': geolocator.reverse(\n",
    "                            \",\".join([str(coordinates) for coordinates in (tweet['geo']['coordinates'])])\n",
    "                        ).raw['address']['country_code']\n",
    "        } for tweet in bulk_data_with_geo\n",
    "    ]"
   ]
  },
  {
   "cell_type": "code",
   "execution_count": 10,
   "id": "4e8e7bb4-3285-4c23-b17a-f7457314bb6b",
   "metadata": {},
   "outputs": [],
   "source": [
    "# bulk insert of tweets_index without geo information\n",
    "kafka_data_without_geo = [\n",
    "        {\n",
    "            'created_at': tweet['created_at'].isoformat(),\n",
    "            'id_twitter': tweet['id'],\n",
    "            'text_tweet': tweet['text'],\n",
    "            'language': tweet['lang'],\n",
    "            'hashtags': \", \".join([hashtags['text'] for hashtags in tweet['hashtags']]),\n",
    "            'favorite_count': tweet['favorite_count'],\n",
    "            'retweet_count': tweet['retweet_count'],\n",
    "            #'geo_coordinates': \",\".join([str(coordinates) for coordinates in (tweet['geo']['coordinates']) ])\n",
    "            'country': tweet['geo'],\n",
    "            'country_code': tweet['geo']\n",
    "        } for tweet in bulk_data_without_geo\n",
    "    ]"
   ]
  },
  {
   "cell_type": "code",
   "execution_count": 15,
   "id": "5020fe01-2e59-4994-9b99-c0eab7a32862",
   "metadata": {},
   "outputs": [],
   "source": [
    "producer = KafkaProducer(value_serializer=lambda v: json.dumps(v).encode('utf-8'))\n",
    "\n",
    "try:\n",
    "    for tweet in kafka_data_with_geo:\n",
    "        producer.send('twitter', key=b'covid', value=tweet)\n",
    "        #print('Sent:', tweet)\n",
    "        time.sleep(1)\n",
    "    \n",
    "    for tweet in kafka_data_without_geo:\n",
    "        producer.send('twitter', key=b'covid', value=tweet)\n",
    "        #print('Sent:', tweet)\n",
    "        time.sleep(1)\n",
    "    \n",
    "except KafkaTimeoutError:\n",
    "    print(\"Timeout: not possible to send the data.\")\n",
    "finally:\n",
    "    producer.close()"
   ]
  }
 ],
 "metadata": {
  "kernelspec": {
   "display_name": "Python 3",
   "language": "python",
   "name": "python3"
  },
  "language_info": {
   "codemirror_mode": {
    "name": "ipython",
    "version": 3
   },
   "file_extension": ".py",
   "mimetype": "text/x-python",
   "name": "python",
   "nbconvert_exporter": "python",
   "pygments_lexer": "ipython3",
   "version": "3.9.1"
  }
 },
 "nbformat": 4,
 "nbformat_minor": 5
}
